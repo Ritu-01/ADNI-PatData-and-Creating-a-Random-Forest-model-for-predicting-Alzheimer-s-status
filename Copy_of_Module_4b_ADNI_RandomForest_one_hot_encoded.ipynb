{
  "nbformat": 4,
  "nbformat_minor": 0,
  "metadata": {
    "colab": {
      "provenance": [],
      "toc_visible": true,
      "include_colab_link": true
    },
    "kernelspec": {
      "name": "python3",
      "display_name": "Python 3"
    },
    "language_info": {
      "name": "python"
    }
  },
  "cells": [
    {
      "cell_type": "markdown",
      "metadata": {
        "id": "view-in-github",
        "colab_type": "text"
      },
      "source": [
        "<a href=\"https://colab.research.google.com/github/Ritu-01/ADNI-PatData-and-Creating-a-Random-Forest-model-for-predicting-Alzheimer-s-status/blob/main/Copy_of_Module_4b_ADNI_RandomForest_one_hot_encoded.ipynb\" target=\"_parent\"><img src=\"https://colab.research.google.com/assets/colab-badge.svg\" alt=\"Open In Colab\"/></a>"
      ]
    },
    {
      "cell_type": "markdown",
      "metadata": {
        "id": "c8DIh94Mkokf"
      },
      "source": [
        "#Working with the ADNI PatData data and creating a Random Forest model for predicting Alzheimer's status."
      ]
    },
    {
      "cell_type": "markdown",
      "metadata": {
        "id": "Eypv_1yPXe2X"
      },
      "source": [
        "# 1) Opening the file location and loading libraries\n",
        "Importing all necessary libraries to create our models\n",
        "\n"
      ]
    },
    {
      "cell_type": "code",
      "metadata": {
        "id": "F48UupL7Lt5S"
      },
      "source": [
        "# Data cleaning and wrangling packages\n",
        "import pandas as pd\n",
        "import numpy as np\n",
        "from sklearn.model_selection import train_test_split\n",
        "from sklearn.preprocessing import OneHotEncoder\n",
        "from sklearn.compose import make_column_transformer\n",
        "\n",
        "# Machine learning model building packages and evaluating their performance\n",
        "from sklearn.ensemble import RandomForestClassifier\n",
        "from sklearn import metrics\n",
        "\n",
        "# Plots and graphs packages\n",
        "import matplotlib.pyplot as plt\n",
        "from sklearn.metrics import ConfusionMatrixDisplay\n",
        "import seaborn as sns\n",
        "\n",
        "# packages to save your work in google colab\n",
        "from google.colab import files"
      ],
      "execution_count": null,
      "outputs": []
    },
    {
      "cell_type": "markdown",
      "metadata": {
        "id": "ZZvCupM1WwFM"
      },
      "source": [
        "Here you will read in data from a file called PatData.csv. I (Pleuni Pennings) created that file as a summary of a larger file called \"TADPOLE_D1_D2.csv.\" This has electronic health record data for every patient and this dataset contains all the variables mentioned in our course text plus the other ones and it is measured across several timepoint. **PatData.csv** is a summary, with just one time point per patient and this is the dataset we will be working on in notebook."
      ]
    },
    {
      "cell_type": "code",
      "metadata": {
        "id": "9XRGmk1gGSxD"
      },
      "source": [
        "url = \"https://raw.githubusercontent.com/pleunipennings/CSC508Data/main/PatData.csv\"\n",
        "data = pd.read_csv(url)"
      ],
      "execution_count": null,
      "outputs": []
    },
    {
      "cell_type": "markdown",
      "metadata": {
        "id": "hz_hcncJb-st"
      },
      "source": [
        "# 2) Having a first look at the data\n",
        "\n",
        "As usual we should get into the practice of taking a look at how your data is structured, what is the dimention of our data, which variables are our features and which is a label. For the purpose of this notebook, it is important for us to check what variables we would need to one-hot encode."
      ]
    },
    {
      "cell_type": "code",
      "metadata": {
        "id": "qRVK5s1qfShX",
        "colab": {
          "base_uri": "https://localhost:8080/"
        },
        "outputId": "9a0c50a7-9dec-4f92-e30d-14bcc7f009d1"
      },
      "source": [
        "# Checking how big is our data\n",
        "data.shape"
      ],
      "execution_count": null,
      "outputs": [
        {
          "output_type": "execute_result",
          "data": {
            "text/plain": [
              "(1737, 16)"
            ]
          },
          "metadata": {},
          "execution_count": 104
        }
      ]
    },
    {
      "cell_type": "code",
      "metadata": {
        "id": "CYesLoZ4c4qO",
        "colab": {
          "base_uri": "https://localhost:8080/"
        },
        "outputId": "39b7b048-1195-4805-f449-16cd3f6e1842"
      },
      "source": [
        "# Looking at each of the variables column names\n",
        "data.columns"
      ],
      "execution_count": null,
      "outputs": [
        {
          "output_type": "execute_result",
          "data": {
            "text/plain": [
              "Index(['PTID', 'AGE', 'PTGENDER', 'PTEDUCAT', 'PTETHCAT', 'PTRACCAT',\n",
              "       'PTMARRY', 'APOE4', 'DX', 'Ventricles', 'Hippocampus', 'WholeBrain',\n",
              "       'Entorhinal', 'Fusiform', 'MidTemp', 'ICV'],\n",
              "      dtype='object')"
            ]
          },
          "metadata": {},
          "execution_count": 105
        }
      ]
    },
    {
      "cell_type": "code",
      "metadata": {
        "id": "nsHfuXTljnVx",
        "colab": {
          "base_uri": "https://localhost:8080/",
          "height": 313
        },
        "outputId": "e5a0acaa-1196-4cc8-ed49-7bd37c4c241e"
      },
      "source": [
        "# Checking a couple of rows of our data to see what each column data contains\n",
        "data.head()"
      ],
      "execution_count": null,
      "outputs": [
        {
          "output_type": "execute_result",
          "data": {
            "text/plain": [
              "         PTID   AGE PTGENDER  PTEDUCAT         PTETHCAT PTRACCAT  PTMARRY  \\\n",
              "0  002_S_0295  84.8     Male        18  Not Hisp/Latino    White  Married   \n",
              "1  002_S_0413  76.3   Female        16  Not Hisp/Latino    White  Married   \n",
              "2  002_S_0559  79.3     Male        16  Not Hisp/Latino    White  Widowed   \n",
              "3  002_S_0619  77.5     Male        12  Not Hisp/Latino    White  Married   \n",
              "4  002_S_0685  89.6   Female        16  Not Hisp/Latino    White  Married   \n",
              "\n",
              "   APOE4        DX     Ventricles  Hippocampus    WholeBrain   Entorhinal  \\\n",
              "0    1.0        NL   43332.500000  6805.125000  1.071568e+06  3752.625000   \n",
              "1    0.0        NL   31936.454545  6824.636364  1.055413e+06  4131.090909   \n",
              "2    1.0        NL   38410.666667  7496.666667  1.092807e+06  3998.333333   \n",
              "3    2.0  Dementia  120529.500000  5812.000000  1.093932e+06  2773.000000   \n",
              "4    0.0        NL   40921.571429  7063.250000  9.800458e+05  3894.375000   \n",
              "\n",
              "       Fusiform       MidTemp           ICV  \n",
              "0  17693.875000  19420.125000  1.649602e+06  \n",
              "1  20095.909091  20235.545455  1.600009e+06  \n",
              "2  18993.000000  22226.000000  1.703968e+06  \n",
              "3  20675.000000  19959.000000  2.070530e+06  \n",
              "4  14152.250000  18133.625000  1.521331e+06  "
            ],
            "text/html": [
              "\n",
              "  <div id=\"df-89f2507b-da9b-4867-80bf-a215af02aaea\" class=\"colab-df-container\">\n",
              "    <div>\n",
              "<style scoped>\n",
              "    .dataframe tbody tr th:only-of-type {\n",
              "        vertical-align: middle;\n",
              "    }\n",
              "\n",
              "    .dataframe tbody tr th {\n",
              "        vertical-align: top;\n",
              "    }\n",
              "\n",
              "    .dataframe thead th {\n",
              "        text-align: right;\n",
              "    }\n",
              "</style>\n",
              "<table border=\"1\" class=\"dataframe\">\n",
              "  <thead>\n",
              "    <tr style=\"text-align: right;\">\n",
              "      <th></th>\n",
              "      <th>PTID</th>\n",
              "      <th>AGE</th>\n",
              "      <th>PTGENDER</th>\n",
              "      <th>PTEDUCAT</th>\n",
              "      <th>PTETHCAT</th>\n",
              "      <th>PTRACCAT</th>\n",
              "      <th>PTMARRY</th>\n",
              "      <th>APOE4</th>\n",
              "      <th>DX</th>\n",
              "      <th>Ventricles</th>\n",
              "      <th>Hippocampus</th>\n",
              "      <th>WholeBrain</th>\n",
              "      <th>Entorhinal</th>\n",
              "      <th>Fusiform</th>\n",
              "      <th>MidTemp</th>\n",
              "      <th>ICV</th>\n",
              "    </tr>\n",
              "  </thead>\n",
              "  <tbody>\n",
              "    <tr>\n",
              "      <th>0</th>\n",
              "      <td>002_S_0295</td>\n",
              "      <td>84.8</td>\n",
              "      <td>Male</td>\n",
              "      <td>18</td>\n",
              "      <td>Not Hisp/Latino</td>\n",
              "      <td>White</td>\n",
              "      <td>Married</td>\n",
              "      <td>1.0</td>\n",
              "      <td>NL</td>\n",
              "      <td>43332.500000</td>\n",
              "      <td>6805.125000</td>\n",
              "      <td>1.071568e+06</td>\n",
              "      <td>3752.625000</td>\n",
              "      <td>17693.875000</td>\n",
              "      <td>19420.125000</td>\n",
              "      <td>1.649602e+06</td>\n",
              "    </tr>\n",
              "    <tr>\n",
              "      <th>1</th>\n",
              "      <td>002_S_0413</td>\n",
              "      <td>76.3</td>\n",
              "      <td>Female</td>\n",
              "      <td>16</td>\n",
              "      <td>Not Hisp/Latino</td>\n",
              "      <td>White</td>\n",
              "      <td>Married</td>\n",
              "      <td>0.0</td>\n",
              "      <td>NL</td>\n",
              "      <td>31936.454545</td>\n",
              "      <td>6824.636364</td>\n",
              "      <td>1.055413e+06</td>\n",
              "      <td>4131.090909</td>\n",
              "      <td>20095.909091</td>\n",
              "      <td>20235.545455</td>\n",
              "      <td>1.600009e+06</td>\n",
              "    </tr>\n",
              "    <tr>\n",
              "      <th>2</th>\n",
              "      <td>002_S_0559</td>\n",
              "      <td>79.3</td>\n",
              "      <td>Male</td>\n",
              "      <td>16</td>\n",
              "      <td>Not Hisp/Latino</td>\n",
              "      <td>White</td>\n",
              "      <td>Widowed</td>\n",
              "      <td>1.0</td>\n",
              "      <td>NL</td>\n",
              "      <td>38410.666667</td>\n",
              "      <td>7496.666667</td>\n",
              "      <td>1.092807e+06</td>\n",
              "      <td>3998.333333</td>\n",
              "      <td>18993.000000</td>\n",
              "      <td>22226.000000</td>\n",
              "      <td>1.703968e+06</td>\n",
              "    </tr>\n",
              "    <tr>\n",
              "      <th>3</th>\n",
              "      <td>002_S_0619</td>\n",
              "      <td>77.5</td>\n",
              "      <td>Male</td>\n",
              "      <td>12</td>\n",
              "      <td>Not Hisp/Latino</td>\n",
              "      <td>White</td>\n",
              "      <td>Married</td>\n",
              "      <td>2.0</td>\n",
              "      <td>Dementia</td>\n",
              "      <td>120529.500000</td>\n",
              "      <td>5812.000000</td>\n",
              "      <td>1.093932e+06</td>\n",
              "      <td>2773.000000</td>\n",
              "      <td>20675.000000</td>\n",
              "      <td>19959.000000</td>\n",
              "      <td>2.070530e+06</td>\n",
              "    </tr>\n",
              "    <tr>\n",
              "      <th>4</th>\n",
              "      <td>002_S_0685</td>\n",
              "      <td>89.6</td>\n",
              "      <td>Female</td>\n",
              "      <td>16</td>\n",
              "      <td>Not Hisp/Latino</td>\n",
              "      <td>White</td>\n",
              "      <td>Married</td>\n",
              "      <td>0.0</td>\n",
              "      <td>NL</td>\n",
              "      <td>40921.571429</td>\n",
              "      <td>7063.250000</td>\n",
              "      <td>9.800458e+05</td>\n",
              "      <td>3894.375000</td>\n",
              "      <td>14152.250000</td>\n",
              "      <td>18133.625000</td>\n",
              "      <td>1.521331e+06</td>\n",
              "    </tr>\n",
              "  </tbody>\n",
              "</table>\n",
              "</div>\n",
              "    <div class=\"colab-df-buttons\">\n",
              "\n",
              "  <div class=\"colab-df-container\">\n",
              "    <button class=\"colab-df-convert\" onclick=\"convertToInteractive('df-89f2507b-da9b-4867-80bf-a215af02aaea')\"\n",
              "            title=\"Convert this dataframe to an interactive table.\"\n",
              "            style=\"display:none;\">\n",
              "\n",
              "  <svg xmlns=\"http://www.w3.org/2000/svg\" height=\"24px\" viewBox=\"0 -960 960 960\">\n",
              "    <path d=\"M120-120v-720h720v720H120Zm60-500h600v-160H180v160Zm220 220h160v-160H400v160Zm0 220h160v-160H400v160ZM180-400h160v-160H180v160Zm440 0h160v-160H620v160ZM180-180h160v-160H180v160Zm440 0h160v-160H620v160Z\"/>\n",
              "  </svg>\n",
              "    </button>\n",
              "\n",
              "  <style>\n",
              "    .colab-df-container {\n",
              "      display:flex;\n",
              "      gap: 12px;\n",
              "    }\n",
              "\n",
              "    .colab-df-convert {\n",
              "      background-color: #E8F0FE;\n",
              "      border: none;\n",
              "      border-radius: 50%;\n",
              "      cursor: pointer;\n",
              "      display: none;\n",
              "      fill: #1967D2;\n",
              "      height: 32px;\n",
              "      padding: 0 0 0 0;\n",
              "      width: 32px;\n",
              "    }\n",
              "\n",
              "    .colab-df-convert:hover {\n",
              "      background-color: #E2EBFA;\n",
              "      box-shadow: 0px 1px 2px rgba(60, 64, 67, 0.3), 0px 1px 3px 1px rgba(60, 64, 67, 0.15);\n",
              "      fill: #174EA6;\n",
              "    }\n",
              "\n",
              "    .colab-df-buttons div {\n",
              "      margin-bottom: 4px;\n",
              "    }\n",
              "\n",
              "    [theme=dark] .colab-df-convert {\n",
              "      background-color: #3B4455;\n",
              "      fill: #D2E3FC;\n",
              "    }\n",
              "\n",
              "    [theme=dark] .colab-df-convert:hover {\n",
              "      background-color: #434B5C;\n",
              "      box-shadow: 0px 1px 3px 1px rgba(0, 0, 0, 0.15);\n",
              "      filter: drop-shadow(0px 1px 2px rgba(0, 0, 0, 0.3));\n",
              "      fill: #FFFFFF;\n",
              "    }\n",
              "  </style>\n",
              "\n",
              "    <script>\n",
              "      const buttonEl =\n",
              "        document.querySelector('#df-89f2507b-da9b-4867-80bf-a215af02aaea button.colab-df-convert');\n",
              "      buttonEl.style.display =\n",
              "        google.colab.kernel.accessAllowed ? 'block' : 'none';\n",
              "\n",
              "      async function convertToInteractive(key) {\n",
              "        const element = document.querySelector('#df-89f2507b-da9b-4867-80bf-a215af02aaea');\n",
              "        const dataTable =\n",
              "          await google.colab.kernel.invokeFunction('convertToInteractive',\n",
              "                                                    [key], {});\n",
              "        if (!dataTable) return;\n",
              "\n",
              "        const docLinkHtml = 'Like what you see? Visit the ' +\n",
              "          '<a target=\"_blank\" href=https://colab.research.google.com/notebooks/data_table.ipynb>data table notebook</a>'\n",
              "          + ' to learn more about interactive tables.';\n",
              "        element.innerHTML = '';\n",
              "        dataTable['output_type'] = 'display_data';\n",
              "        await google.colab.output.renderOutput(dataTable, element);\n",
              "        const docLink = document.createElement('div');\n",
              "        docLink.innerHTML = docLinkHtml;\n",
              "        element.appendChild(docLink);\n",
              "      }\n",
              "    </script>\n",
              "  </div>\n",
              "\n",
              "\n",
              "<div id=\"df-bba0398d-2afe-4149-93f5-c8892008d61e\">\n",
              "  <button class=\"colab-df-quickchart\" onclick=\"quickchart('df-bba0398d-2afe-4149-93f5-c8892008d61e')\"\n",
              "            title=\"Suggest charts.\"\n",
              "            style=\"display:none;\">\n",
              "\n",
              "<svg xmlns=\"http://www.w3.org/2000/svg\" height=\"24px\"viewBox=\"0 0 24 24\"\n",
              "     width=\"24px\">\n",
              "    <g>\n",
              "        <path d=\"M19 3H5c-1.1 0-2 .9-2 2v14c0 1.1.9 2 2 2h14c1.1 0 2-.9 2-2V5c0-1.1-.9-2-2-2zM9 17H7v-7h2v7zm4 0h-2V7h2v10zm4 0h-2v-4h2v4z\"/>\n",
              "    </g>\n",
              "</svg>\n",
              "  </button>\n",
              "\n",
              "<style>\n",
              "  .colab-df-quickchart {\n",
              "      --bg-color: #E8F0FE;\n",
              "      --fill-color: #1967D2;\n",
              "      --hover-bg-color: #E2EBFA;\n",
              "      --hover-fill-color: #174EA6;\n",
              "      --disabled-fill-color: #AAA;\n",
              "      --disabled-bg-color: #DDD;\n",
              "  }\n",
              "\n",
              "  [theme=dark] .colab-df-quickchart {\n",
              "      --bg-color: #3B4455;\n",
              "      --fill-color: #D2E3FC;\n",
              "      --hover-bg-color: #434B5C;\n",
              "      --hover-fill-color: #FFFFFF;\n",
              "      --disabled-bg-color: #3B4455;\n",
              "      --disabled-fill-color: #666;\n",
              "  }\n",
              "\n",
              "  .colab-df-quickchart {\n",
              "    background-color: var(--bg-color);\n",
              "    border: none;\n",
              "    border-radius: 50%;\n",
              "    cursor: pointer;\n",
              "    display: none;\n",
              "    fill: var(--fill-color);\n",
              "    height: 32px;\n",
              "    padding: 0;\n",
              "    width: 32px;\n",
              "  }\n",
              "\n",
              "  .colab-df-quickchart:hover {\n",
              "    background-color: var(--hover-bg-color);\n",
              "    box-shadow: 0 1px 2px rgba(60, 64, 67, 0.3), 0 1px 3px 1px rgba(60, 64, 67, 0.15);\n",
              "    fill: var(--button-hover-fill-color);\n",
              "  }\n",
              "\n",
              "  .colab-df-quickchart-complete:disabled,\n",
              "  .colab-df-quickchart-complete:disabled:hover {\n",
              "    background-color: var(--disabled-bg-color);\n",
              "    fill: var(--disabled-fill-color);\n",
              "    box-shadow: none;\n",
              "  }\n",
              "\n",
              "  .colab-df-spinner {\n",
              "    border: 2px solid var(--fill-color);\n",
              "    border-color: transparent;\n",
              "    border-bottom-color: var(--fill-color);\n",
              "    animation:\n",
              "      spin 1s steps(1) infinite;\n",
              "  }\n",
              "\n",
              "  @keyframes spin {\n",
              "    0% {\n",
              "      border-color: transparent;\n",
              "      border-bottom-color: var(--fill-color);\n",
              "      border-left-color: var(--fill-color);\n",
              "    }\n",
              "    20% {\n",
              "      border-color: transparent;\n",
              "      border-left-color: var(--fill-color);\n",
              "      border-top-color: var(--fill-color);\n",
              "    }\n",
              "    30% {\n",
              "      border-color: transparent;\n",
              "      border-left-color: var(--fill-color);\n",
              "      border-top-color: var(--fill-color);\n",
              "      border-right-color: var(--fill-color);\n",
              "    }\n",
              "    40% {\n",
              "      border-color: transparent;\n",
              "      border-right-color: var(--fill-color);\n",
              "      border-top-color: var(--fill-color);\n",
              "    }\n",
              "    60% {\n",
              "      border-color: transparent;\n",
              "      border-right-color: var(--fill-color);\n",
              "    }\n",
              "    80% {\n",
              "      border-color: transparent;\n",
              "      border-right-color: var(--fill-color);\n",
              "      border-bottom-color: var(--fill-color);\n",
              "    }\n",
              "    90% {\n",
              "      border-color: transparent;\n",
              "      border-bottom-color: var(--fill-color);\n",
              "    }\n",
              "  }\n",
              "</style>\n",
              "\n",
              "  <script>\n",
              "    async function quickchart(key) {\n",
              "      const quickchartButtonEl =\n",
              "        document.querySelector('#' + key + ' button');\n",
              "      quickchartButtonEl.disabled = true;  // To prevent multiple clicks.\n",
              "      quickchartButtonEl.classList.add('colab-df-spinner');\n",
              "      try {\n",
              "        const charts = await google.colab.kernel.invokeFunction(\n",
              "            'suggestCharts', [key], {});\n",
              "      } catch (error) {\n",
              "        console.error('Error during call to suggestCharts:', error);\n",
              "      }\n",
              "      quickchartButtonEl.classList.remove('colab-df-spinner');\n",
              "      quickchartButtonEl.classList.add('colab-df-quickchart-complete');\n",
              "    }\n",
              "    (() => {\n",
              "      let quickchartButtonEl =\n",
              "        document.querySelector('#df-bba0398d-2afe-4149-93f5-c8892008d61e button');\n",
              "      quickchartButtonEl.style.display =\n",
              "        google.colab.kernel.accessAllowed ? 'block' : 'none';\n",
              "    })();\n",
              "  </script>\n",
              "</div>\n",
              "    </div>\n",
              "  </div>\n"
            ]
          },
          "metadata": {},
          "execution_count": 106
        }
      ]
    },
    {
      "cell_type": "markdown",
      "metadata": {
        "id": "MEzOrudDhkuz"
      },
      "source": [
        "##Task 1: looking at the data\n",
        "\n",
        "a. Each row has data for one patient. How many patients are there in the dataset?\n",
        "\n",
        "b. We are looking at a dataset with just one time point per patient. Why do you\n",
        "think it is useful for an Alzheimer's study to have multiple time points per patient?\n",
        "\n",
        "c. Which of the columns do you think would be important for predicting who has Alzheimer's disease? Pick 2 and explain your choice.\n",
        "\n",
        "d. Which of the columns do you think are not important? Pick 2 and explain."
      ]
    },
    {
      "cell_type": "markdown",
      "source": [
        "**Task1 answer:**\n",
        "\n",
        "a. There are 1737 patients in the dataset.\n",
        "\n",
        "b.I think it is useful for an Alzheimer's study to have multiple time points per patient because it helps in tracking the progression of Alzheimer disease.\n",
        "\n",
        "c. I think age and hippocampus columns would be important for predicting who has Alzheimer's disease because the age helps in tracking the patient's alzheimer history and the amount of hippocampus helps in detecting the  Alzheimer's stage of person suffering from Alzheimer.\n",
        "\n",
        "d. PTMARRY and PTETHCAT because marriage status and race don't have any direct relation in contributing the risk of Alzheimer's disease."
      ],
      "metadata": {
        "id": "ygQdJVC3c9ND"
      }
    },
    {
      "cell_type": "markdown",
      "metadata": {
        "id": "90IJNt2PXWWI"
      },
      "source": [
        "# 3) Data Cleaning: dealing with missing data\n",
        "Now we have the data, but it is messy, with some missing data. Let's see what columns contain missing data."
      ]
    },
    {
      "cell_type": "code",
      "metadata": {
        "id": "7lkr6NQfsE_o",
        "colab": {
          "base_uri": "https://localhost:8080/"
        },
        "outputId": "f4fa2545-3801-44d5-fbc1-ec69b80dca0e"
      },
      "source": [
        "# This provides counts of missing values for each column\n",
        "data.isnull().sum()"
      ],
      "execution_count": null,
      "outputs": [
        {
          "output_type": "execute_result",
          "data": {
            "text/plain": [
              "PTID            0\n",
              "AGE             0\n",
              "PTGENDER        0\n",
              "PTEDUCAT        0\n",
              "PTETHCAT        0\n",
              "PTRACCAT        0\n",
              "PTMARRY         0\n",
              "APOE4          12\n",
              "DX              7\n",
              "Ventricles     23\n",
              "Hippocampus    56\n",
              "WholeBrain     14\n",
              "Entorhinal     98\n",
              "Fusiform       98\n",
              "MidTemp        98\n",
              "ICV             2\n",
              "dtype: int64"
            ]
          },
          "metadata": {},
          "execution_count": 107
        }
      ]
    },
    {
      "cell_type": "markdown",
      "metadata": {
        "id": "K6T-IO15XqZE"
      },
      "source": [
        "OK, so first of all, let's just focus on patients that have a diagnosis in DX, since this is our target variable or label.\n",
        "Using the dropna() function from pandas https://pandas.pydata.org/pandas-docs/stable/reference/api/pandas.DataFrame.dropna.html"
      ]
    },
    {
      "cell_type": "code",
      "metadata": {
        "id": "QLeJ5f90Xwx8",
        "colab": {
          "base_uri": "https://localhost:8080/"
        },
        "outputId": "ed54edb0-d04a-4c77-dcff-a409513189c7"
      },
      "source": [
        "# this drops all columns that have missing values in the DX column\n",
        "data = data.dropna(subset=['DX'])\n",
        "# Here we will check again all missing values\n",
        "data.isnull().sum()"
      ],
      "execution_count": null,
      "outputs": [
        {
          "output_type": "execute_result",
          "data": {
            "text/plain": [
              "PTID            0\n",
              "AGE             0\n",
              "PTGENDER        0\n",
              "PTEDUCAT        0\n",
              "PTETHCAT        0\n",
              "PTRACCAT        0\n",
              "PTMARRY         0\n",
              "APOE4           6\n",
              "DX              0\n",
              "Ventricles     21\n",
              "Hippocampus    53\n",
              "WholeBrain     12\n",
              "Entorhinal     96\n",
              "Fusiform       96\n",
              "MidTemp        96\n",
              "ICV             1\n",
              "dtype: int64"
            ]
          },
          "metadata": {},
          "execution_count": 108
        }
      ]
    },
    {
      "cell_type": "markdown",
      "metadata": {
        "id": "TOPsrvIuZGRU"
      },
      "source": [
        "Check how much data we have left after deleting all the rows without DX information. This information should be given to you by looking at the first element of the shape tuple."
      ]
    },
    {
      "cell_type": "code",
      "metadata": {
        "id": "4RzpUUBCZCK7",
        "colab": {
          "base_uri": "https://localhost:8080/"
        },
        "outputId": "9ba33e09-b5fb-4589-d814-a9c306d36d94"
      },
      "source": [
        "# Checking remaining data\n",
        "data.shape"
      ],
      "execution_count": null,
      "outputs": [
        {
          "output_type": "execute_result",
          "data": {
            "text/plain": [
              "(1730, 16)"
            ]
          },
          "metadata": {},
          "execution_count": 109
        }
      ]
    },
    {
      "cell_type": "markdown",
      "metadata": {
        "id": "bU5VmDnOaMLk"
      },
      "source": [
        "And let's look at what diagnoses, column \"DX\" we have, As you can see below We have several diagnoses for the degree of cognitive impairment that range from: **Cognitively Normal** to **Dementia (aka. Alzheimer's Disease)**:\n",
        "\n",
        "|Diagnosis|Meaning|\n",
        "|---|---|\n",
        "|NL|Cognitively normal|\n",
        "|NL to MCI|Person in between Normal and Mild Cognitive Impairment|\n",
        "|MCI|Mild Cognitive Impairment|\n",
        "|MCI to Dementia|Person in between MCI and Alzheimer's Disease|\n",
        "|Dementia|Person that has Alzheimer's Disease|\n"
      ]
    },
    {
      "cell_type": "code",
      "metadata": {
        "id": "a6qb4QTyZJpy",
        "colab": {
          "base_uri": "https://localhost:8080/"
        },
        "outputId": "4ad1e55d-2fca-433b-b98e-1ef0f7370641"
      },
      "source": [
        "# get value counts for all diagnoses\n",
        "data['DX'].value_counts()"
      ],
      "execution_count": null,
      "outputs": [
        {
          "output_type": "execute_result",
          "data": {
            "text/plain": [
              "MCI                586\n",
              "Dementia           577\n",
              "NL                 423\n",
              "MCI to Dementia    108\n",
              "NL to MCI           29\n",
              "NL to Dementia       3\n",
              "MCI to NL            3\n",
              "Dementia to MCI      1\n",
              "Name: DX, dtype: int64"
            ]
          },
          "metadata": {},
          "execution_count": 110
        }
      ]
    },
    {
      "cell_type": "markdown",
      "metadata": {
        "id": "StG9tM_maXGz"
      },
      "source": [
        "**NOTE:** We should have only 5 diagnosis in total, yet our count shows 8 total diagnosis! This is because real data comes in really messy. Notice for example that we have **NL to Dementia**, this would be the whole spectrum! so clearly this could be the result of an error during data input.\n",
        "\n",
        "Therefore, I would like to take out all the in between diagnosis and keep only the main ones: NL, MCI and Dementia. This way we can work with a simpler classification."
      ]
    },
    {
      "cell_type": "code",
      "metadata": {
        "id": "OscZux15dAQC"
      },
      "source": [
        "# creates an index with the exeptions we have stipulated\n",
        "index_to_drop = data[ (data['DX'] != \"MCI\") & (data['DX'] != \"NL\") & (data['DX'] != \"Dementia\")].index\n",
        "# drops all data based on our index\n",
        "data = data.drop(index_to_drop)\n"
      ],
      "execution_count": null,
      "outputs": []
    },
    {
      "cell_type": "code",
      "metadata": {
        "id": "PnRMbj4kaQf1",
        "colab": {
          "base_uri": "https://localhost:8080/"
        },
        "outputId": "7c3e8534-8e94-4e56-8548-d2624c0ed6ec"
      },
      "source": [
        "# this should be the new classification scheme\n",
        "data['DX'].value_counts()"
      ],
      "execution_count": null,
      "outputs": [
        {
          "output_type": "execute_result",
          "data": {
            "text/plain": [
              "MCI         586\n",
              "Dementia    577\n",
              "NL          423\n",
              "Name: DX, dtype: int64"
            ]
          },
          "metadata": {},
          "execution_count": 112
        }
      ]
    },
    {
      "cell_type": "markdown",
      "metadata": {
        "id": "qYU1L9MqdhQN"
      },
      "source": [
        "What's the status of missing data now in the other columns?"
      ]
    },
    {
      "cell_type": "code",
      "metadata": {
        "id": "L-l2ah0Idk8E",
        "colab": {
          "base_uri": "https://localhost:8080/"
        },
        "outputId": "e6efac51-9d26-486b-b363-7bc99cac0a0b"
      },
      "source": [
        "# checking missing data again\n",
        "data.isnull().sum()"
      ],
      "execution_count": null,
      "outputs": [
        {
          "output_type": "execute_result",
          "data": {
            "text/plain": [
              "PTID            0\n",
              "AGE             0\n",
              "PTGENDER        0\n",
              "PTEDUCAT        0\n",
              "PTETHCAT        0\n",
              "PTRACCAT        0\n",
              "PTMARRY         0\n",
              "APOE4           6\n",
              "DX              0\n",
              "Ventricles     20\n",
              "Hippocampus    50\n",
              "WholeBrain     12\n",
              "Entorhinal     92\n",
              "Fusiform       92\n",
              "MidTemp        92\n",
              "ICV             1\n",
              "dtype: int64"
            ]
          },
          "metadata": {},
          "execution_count": 113
        }
      ]
    },
    {
      "cell_type": "markdown",
      "metadata": {
        "id": "8JyebQ3giFXS"
      },
      "source": [
        "Because we still have a lot of rows of data, we can go ahead and drop all the remaining columns with missing data"
      ]
    },
    {
      "cell_type": "code",
      "metadata": {
        "id": "TvJTitOriNcE",
        "colab": {
          "base_uri": "https://localhost:8080/"
        },
        "outputId": "d4909f48-6abf-4205-cbb7-bf22cfb63c9d"
      },
      "source": [
        "# remove all rows that contain missing data\n",
        "data = data.dropna()\n",
        "# Checking our final dataframe\n",
        "data.shape"
      ],
      "execution_count": null,
      "outputs": [
        {
          "output_type": "execute_result",
          "data": {
            "text/plain": [
              "(1479, 16)"
            ]
          },
          "metadata": {},
          "execution_count": 114
        }
      ]
    },
    {
      "cell_type": "markdown",
      "metadata": {
        "id": "lftHwibPic31"
      },
      "source": [
        "OK, so we have 1479 patients with complete data now. We will then check the total number of patients per diagnosis. This is important later on when we train our data with our ML models because we want the number for each diagnosis to be roughly similar, that is as close as possible to a **Balanced** Dataset. When this is not the case, it can present problems in terms of trusting our accuracy results blindly. More about this in **Module 6** and **Module 7**"
      ]
    },
    {
      "cell_type": "code",
      "metadata": {
        "id": "bTYajUznfMjy",
        "colab": {
          "base_uri": "https://localhost:8080/"
        },
        "outputId": "d809fa5b-4650-42e8-f640-a8241b27b6b9"
      },
      "source": [
        "# Checking the total number of patients per diagnosis\n",
        "data['DX'].value_counts()"
      ],
      "execution_count": null,
      "outputs": [
        {
          "output_type": "execute_result",
          "data": {
            "text/plain": [
              "MCI         559\n",
              "Dementia    522\n",
              "NL          398\n",
              "Name: DX, dtype: int64"
            ]
          },
          "metadata": {},
          "execution_count": 115
        }
      ]
    },
    {
      "cell_type": "markdown",
      "source": [
        "As we can see they are not perfectly equal for all diagnosis but they are close enought that we can proceed."
      ],
      "metadata": {
        "id": "V3rvO6ygIWTf"
      }
    },
    {
      "cell_type": "markdown",
      "metadata": {
        "id": "FblK089oiP8J"
      },
      "source": [
        "# Task 2: describing what we did with missing data\n",
        "\n",
        "In the previous lines of code, we threw out many patients because we didn't have the info we wanted for them. Write a short paragraph where you explain to a potential reader what the number of patients is in the original dataset, which patients we removed for what reason and how many were left for the analysis. Feel free to change the order of operations. For example, I removed first the patients with no diagnosis and later the patients with any missing data. If you do the latter first, you don't have to specifically remove patients with no diagnosis anymore."
      ]
    },
    {
      "cell_type": "markdown",
      "source": [
        "**Task2:** number of patients in the original dataset was 1737.For data cleaning, at first I removed the patients that have diagnosis in DX because it was my target variable. After removing DX, there were 1730 number of patients left for analysis."
      ],
      "metadata": {
        "id": "_rEIg0p6cxmM"
      }
    },
    {
      "cell_type": "markdown",
      "metadata": {
        "id": "uy6JCsIWum9N"
      },
      "source": [
        "# 4) Data wrangling in preparation for Model training\n",
        "\n",
        "## - Ensuring feature columns are correct\n",
        "In this section we will be splitting the data into label (the DX columns) and features (All other columns)\n",
        "\n"
      ]
    },
    {
      "cell_type": "code",
      "metadata": {
        "id": "E3jA9hebBZW5"
      },
      "source": [
        "# Split the data in labels and features\n",
        "labels = data[\"DX\"]\n",
        "features = data.drop(columns=['DX'])"
      ],
      "execution_count": null,
      "outputs": []
    },
    {
      "cell_type": "markdown",
      "metadata": {
        "id": "ZgJdu5DruzCY"
      },
      "source": [
        "What do the features look like again? Make sure it doesn't include any columns that will not help in our prediction"
      ]
    },
    {
      "cell_type": "code",
      "source": [
        "# checking features again\n",
        "features.head()"
      ],
      "metadata": {
        "id": "20gYiz6dKIvU",
        "colab": {
          "base_uri": "https://localhost:8080/",
          "height": 313
        },
        "outputId": "99252c6a-0ab5-45e0-ff28-64881f1d52f9"
      },
      "execution_count": null,
      "outputs": [
        {
          "output_type": "execute_result",
          "data": {
            "text/plain": [
              "         PTID   AGE PTGENDER  PTEDUCAT         PTETHCAT PTRACCAT  PTMARRY  \\\n",
              "0  002_S_0295  84.8     Male        18  Not Hisp/Latino    White  Married   \n",
              "1  002_S_0413  76.3   Female        16  Not Hisp/Latino    White  Married   \n",
              "2  002_S_0559  79.3     Male        16  Not Hisp/Latino    White  Widowed   \n",
              "3  002_S_0619  77.5     Male        12  Not Hisp/Latino    White  Married   \n",
              "4  002_S_0685  89.6   Female        16  Not Hisp/Latino    White  Married   \n",
              "\n",
              "   APOE4     Ventricles  Hippocampus    WholeBrain   Entorhinal      Fusiform  \\\n",
              "0    1.0   43332.500000  6805.125000  1.071568e+06  3752.625000  17693.875000   \n",
              "1    0.0   31936.454545  6824.636364  1.055413e+06  4131.090909  20095.909091   \n",
              "2    1.0   38410.666667  7496.666667  1.092807e+06  3998.333333  18993.000000   \n",
              "3    2.0  120529.500000  5812.000000  1.093932e+06  2773.000000  20675.000000   \n",
              "4    0.0   40921.571429  7063.250000  9.800458e+05  3894.375000  14152.250000   \n",
              "\n",
              "        MidTemp           ICV  \n",
              "0  19420.125000  1.649602e+06  \n",
              "1  20235.545455  1.600009e+06  \n",
              "2  22226.000000  1.703968e+06  \n",
              "3  19959.000000  2.070530e+06  \n",
              "4  18133.625000  1.521331e+06  "
            ],
            "text/html": [
              "\n",
              "  <div id=\"df-f2b5e298-ad53-41ee-94df-879d822f4b6f\" class=\"colab-df-container\">\n",
              "    <div>\n",
              "<style scoped>\n",
              "    .dataframe tbody tr th:only-of-type {\n",
              "        vertical-align: middle;\n",
              "    }\n",
              "\n",
              "    .dataframe tbody tr th {\n",
              "        vertical-align: top;\n",
              "    }\n",
              "\n",
              "    .dataframe thead th {\n",
              "        text-align: right;\n",
              "    }\n",
              "</style>\n",
              "<table border=\"1\" class=\"dataframe\">\n",
              "  <thead>\n",
              "    <tr style=\"text-align: right;\">\n",
              "      <th></th>\n",
              "      <th>PTID</th>\n",
              "      <th>AGE</th>\n",
              "      <th>PTGENDER</th>\n",
              "      <th>PTEDUCAT</th>\n",
              "      <th>PTETHCAT</th>\n",
              "      <th>PTRACCAT</th>\n",
              "      <th>PTMARRY</th>\n",
              "      <th>APOE4</th>\n",
              "      <th>Ventricles</th>\n",
              "      <th>Hippocampus</th>\n",
              "      <th>WholeBrain</th>\n",
              "      <th>Entorhinal</th>\n",
              "      <th>Fusiform</th>\n",
              "      <th>MidTemp</th>\n",
              "      <th>ICV</th>\n",
              "    </tr>\n",
              "  </thead>\n",
              "  <tbody>\n",
              "    <tr>\n",
              "      <th>0</th>\n",
              "      <td>002_S_0295</td>\n",
              "      <td>84.8</td>\n",
              "      <td>Male</td>\n",
              "      <td>18</td>\n",
              "      <td>Not Hisp/Latino</td>\n",
              "      <td>White</td>\n",
              "      <td>Married</td>\n",
              "      <td>1.0</td>\n",
              "      <td>43332.500000</td>\n",
              "      <td>6805.125000</td>\n",
              "      <td>1.071568e+06</td>\n",
              "      <td>3752.625000</td>\n",
              "      <td>17693.875000</td>\n",
              "      <td>19420.125000</td>\n",
              "      <td>1.649602e+06</td>\n",
              "    </tr>\n",
              "    <tr>\n",
              "      <th>1</th>\n",
              "      <td>002_S_0413</td>\n",
              "      <td>76.3</td>\n",
              "      <td>Female</td>\n",
              "      <td>16</td>\n",
              "      <td>Not Hisp/Latino</td>\n",
              "      <td>White</td>\n",
              "      <td>Married</td>\n",
              "      <td>0.0</td>\n",
              "      <td>31936.454545</td>\n",
              "      <td>6824.636364</td>\n",
              "      <td>1.055413e+06</td>\n",
              "      <td>4131.090909</td>\n",
              "      <td>20095.909091</td>\n",
              "      <td>20235.545455</td>\n",
              "      <td>1.600009e+06</td>\n",
              "    </tr>\n",
              "    <tr>\n",
              "      <th>2</th>\n",
              "      <td>002_S_0559</td>\n",
              "      <td>79.3</td>\n",
              "      <td>Male</td>\n",
              "      <td>16</td>\n",
              "      <td>Not Hisp/Latino</td>\n",
              "      <td>White</td>\n",
              "      <td>Widowed</td>\n",
              "      <td>1.0</td>\n",
              "      <td>38410.666667</td>\n",
              "      <td>7496.666667</td>\n",
              "      <td>1.092807e+06</td>\n",
              "      <td>3998.333333</td>\n",
              "      <td>18993.000000</td>\n",
              "      <td>22226.000000</td>\n",
              "      <td>1.703968e+06</td>\n",
              "    </tr>\n",
              "    <tr>\n",
              "      <th>3</th>\n",
              "      <td>002_S_0619</td>\n",
              "      <td>77.5</td>\n",
              "      <td>Male</td>\n",
              "      <td>12</td>\n",
              "      <td>Not Hisp/Latino</td>\n",
              "      <td>White</td>\n",
              "      <td>Married</td>\n",
              "      <td>2.0</td>\n",
              "      <td>120529.500000</td>\n",
              "      <td>5812.000000</td>\n",
              "      <td>1.093932e+06</td>\n",
              "      <td>2773.000000</td>\n",
              "      <td>20675.000000</td>\n",
              "      <td>19959.000000</td>\n",
              "      <td>2.070530e+06</td>\n",
              "    </tr>\n",
              "    <tr>\n",
              "      <th>4</th>\n",
              "      <td>002_S_0685</td>\n",
              "      <td>89.6</td>\n",
              "      <td>Female</td>\n",
              "      <td>16</td>\n",
              "      <td>Not Hisp/Latino</td>\n",
              "      <td>White</td>\n",
              "      <td>Married</td>\n",
              "      <td>0.0</td>\n",
              "      <td>40921.571429</td>\n",
              "      <td>7063.250000</td>\n",
              "      <td>9.800458e+05</td>\n",
              "      <td>3894.375000</td>\n",
              "      <td>14152.250000</td>\n",
              "      <td>18133.625000</td>\n",
              "      <td>1.521331e+06</td>\n",
              "    </tr>\n",
              "  </tbody>\n",
              "</table>\n",
              "</div>\n",
              "    <div class=\"colab-df-buttons\">\n",
              "\n",
              "  <div class=\"colab-df-container\">\n",
              "    <button class=\"colab-df-convert\" onclick=\"convertToInteractive('df-f2b5e298-ad53-41ee-94df-879d822f4b6f')\"\n",
              "            title=\"Convert this dataframe to an interactive table.\"\n",
              "            style=\"display:none;\">\n",
              "\n",
              "  <svg xmlns=\"http://www.w3.org/2000/svg\" height=\"24px\" viewBox=\"0 -960 960 960\">\n",
              "    <path d=\"M120-120v-720h720v720H120Zm60-500h600v-160H180v160Zm220 220h160v-160H400v160Zm0 220h160v-160H400v160ZM180-400h160v-160H180v160Zm440 0h160v-160H620v160ZM180-180h160v-160H180v160Zm440 0h160v-160H620v160Z\"/>\n",
              "  </svg>\n",
              "    </button>\n",
              "\n",
              "  <style>\n",
              "    .colab-df-container {\n",
              "      display:flex;\n",
              "      gap: 12px;\n",
              "    }\n",
              "\n",
              "    .colab-df-convert {\n",
              "      background-color: #E8F0FE;\n",
              "      border: none;\n",
              "      border-radius: 50%;\n",
              "      cursor: pointer;\n",
              "      display: none;\n",
              "      fill: #1967D2;\n",
              "      height: 32px;\n",
              "      padding: 0 0 0 0;\n",
              "      width: 32px;\n",
              "    }\n",
              "\n",
              "    .colab-df-convert:hover {\n",
              "      background-color: #E2EBFA;\n",
              "      box-shadow: 0px 1px 2px rgba(60, 64, 67, 0.3), 0px 1px 3px 1px rgba(60, 64, 67, 0.15);\n",
              "      fill: #174EA6;\n",
              "    }\n",
              "\n",
              "    .colab-df-buttons div {\n",
              "      margin-bottom: 4px;\n",
              "    }\n",
              "\n",
              "    [theme=dark] .colab-df-convert {\n",
              "      background-color: #3B4455;\n",
              "      fill: #D2E3FC;\n",
              "    }\n",
              "\n",
              "    [theme=dark] .colab-df-convert:hover {\n",
              "      background-color: #434B5C;\n",
              "      box-shadow: 0px 1px 3px 1px rgba(0, 0, 0, 0.15);\n",
              "      filter: drop-shadow(0px 1px 2px rgba(0, 0, 0, 0.3));\n",
              "      fill: #FFFFFF;\n",
              "    }\n",
              "  </style>\n",
              "\n",
              "    <script>\n",
              "      const buttonEl =\n",
              "        document.querySelector('#df-f2b5e298-ad53-41ee-94df-879d822f4b6f button.colab-df-convert');\n",
              "      buttonEl.style.display =\n",
              "        google.colab.kernel.accessAllowed ? 'block' : 'none';\n",
              "\n",
              "      async function convertToInteractive(key) {\n",
              "        const element = document.querySelector('#df-f2b5e298-ad53-41ee-94df-879d822f4b6f');\n",
              "        const dataTable =\n",
              "          await google.colab.kernel.invokeFunction('convertToInteractive',\n",
              "                                                    [key], {});\n",
              "        if (!dataTable) return;\n",
              "\n",
              "        const docLinkHtml = 'Like what you see? Visit the ' +\n",
              "          '<a target=\"_blank\" href=https://colab.research.google.com/notebooks/data_table.ipynb>data table notebook</a>'\n",
              "          + ' to learn more about interactive tables.';\n",
              "        element.innerHTML = '';\n",
              "        dataTable['output_type'] = 'display_data';\n",
              "        await google.colab.output.renderOutput(dataTable, element);\n",
              "        const docLink = document.createElement('div');\n",
              "        docLink.innerHTML = docLinkHtml;\n",
              "        element.appendChild(docLink);\n",
              "      }\n",
              "    </script>\n",
              "  </div>\n",
              "\n",
              "\n",
              "<div id=\"df-163cd4c4-7a7c-4cb4-9511-cc1f5ba6eca0\">\n",
              "  <button class=\"colab-df-quickchart\" onclick=\"quickchart('df-163cd4c4-7a7c-4cb4-9511-cc1f5ba6eca0')\"\n",
              "            title=\"Suggest charts.\"\n",
              "            style=\"display:none;\">\n",
              "\n",
              "<svg xmlns=\"http://www.w3.org/2000/svg\" height=\"24px\"viewBox=\"0 0 24 24\"\n",
              "     width=\"24px\">\n",
              "    <g>\n",
              "        <path d=\"M19 3H5c-1.1 0-2 .9-2 2v14c0 1.1.9 2 2 2h14c1.1 0 2-.9 2-2V5c0-1.1-.9-2-2-2zM9 17H7v-7h2v7zm4 0h-2V7h2v10zm4 0h-2v-4h2v4z\"/>\n",
              "    </g>\n",
              "</svg>\n",
              "  </button>\n",
              "\n",
              "<style>\n",
              "  .colab-df-quickchart {\n",
              "      --bg-color: #E8F0FE;\n",
              "      --fill-color: #1967D2;\n",
              "      --hover-bg-color: #E2EBFA;\n",
              "      --hover-fill-color: #174EA6;\n",
              "      --disabled-fill-color: #AAA;\n",
              "      --disabled-bg-color: #DDD;\n",
              "  }\n",
              "\n",
              "  [theme=dark] .colab-df-quickchart {\n",
              "      --bg-color: #3B4455;\n",
              "      --fill-color: #D2E3FC;\n",
              "      --hover-bg-color: #434B5C;\n",
              "      --hover-fill-color: #FFFFFF;\n",
              "      --disabled-bg-color: #3B4455;\n",
              "      --disabled-fill-color: #666;\n",
              "  }\n",
              "\n",
              "  .colab-df-quickchart {\n",
              "    background-color: var(--bg-color);\n",
              "    border: none;\n",
              "    border-radius: 50%;\n",
              "    cursor: pointer;\n",
              "    display: none;\n",
              "    fill: var(--fill-color);\n",
              "    height: 32px;\n",
              "    padding: 0;\n",
              "    width: 32px;\n",
              "  }\n",
              "\n",
              "  .colab-df-quickchart:hover {\n",
              "    background-color: var(--hover-bg-color);\n",
              "    box-shadow: 0 1px 2px rgba(60, 64, 67, 0.3), 0 1px 3px 1px rgba(60, 64, 67, 0.15);\n",
              "    fill: var(--button-hover-fill-color);\n",
              "  }\n",
              "\n",
              "  .colab-df-quickchart-complete:disabled,\n",
              "  .colab-df-quickchart-complete:disabled:hover {\n",
              "    background-color: var(--disabled-bg-color);\n",
              "    fill: var(--disabled-fill-color);\n",
              "    box-shadow: none;\n",
              "  }\n",
              "\n",
              "  .colab-df-spinner {\n",
              "    border: 2px solid var(--fill-color);\n",
              "    border-color: transparent;\n",
              "    border-bottom-color: var(--fill-color);\n",
              "    animation:\n",
              "      spin 1s steps(1) infinite;\n",
              "  }\n",
              "\n",
              "  @keyframes spin {\n",
              "    0% {\n",
              "      border-color: transparent;\n",
              "      border-bottom-color: var(--fill-color);\n",
              "      border-left-color: var(--fill-color);\n",
              "    }\n",
              "    20% {\n",
              "      border-color: transparent;\n",
              "      border-left-color: var(--fill-color);\n",
              "      border-top-color: var(--fill-color);\n",
              "    }\n",
              "    30% {\n",
              "      border-color: transparent;\n",
              "      border-left-color: var(--fill-color);\n",
              "      border-top-color: var(--fill-color);\n",
              "      border-right-color: var(--fill-color);\n",
              "    }\n",
              "    40% {\n",
              "      border-color: transparent;\n",
              "      border-right-color: var(--fill-color);\n",
              "      border-top-color: var(--fill-color);\n",
              "    }\n",
              "    60% {\n",
              "      border-color: transparent;\n",
              "      border-right-color: var(--fill-color);\n",
              "    }\n",
              "    80% {\n",
              "      border-color: transparent;\n",
              "      border-right-color: var(--fill-color);\n",
              "      border-bottom-color: var(--fill-color);\n",
              "    }\n",
              "    90% {\n",
              "      border-color: transparent;\n",
              "      border-bottom-color: var(--fill-color);\n",
              "    }\n",
              "  }\n",
              "</style>\n",
              "\n",
              "  <script>\n",
              "    async function quickchart(key) {\n",
              "      const quickchartButtonEl =\n",
              "        document.querySelector('#' + key + ' button');\n",
              "      quickchartButtonEl.disabled = true;  // To prevent multiple clicks.\n",
              "      quickchartButtonEl.classList.add('colab-df-spinner');\n",
              "      try {\n",
              "        const charts = await google.colab.kernel.invokeFunction(\n",
              "            'suggestCharts', [key], {});\n",
              "      } catch (error) {\n",
              "        console.error('Error during call to suggestCharts:', error);\n",
              "      }\n",
              "      quickchartButtonEl.classList.remove('colab-df-spinner');\n",
              "      quickchartButtonEl.classList.add('colab-df-quickchart-complete');\n",
              "    }\n",
              "    (() => {\n",
              "      let quickchartButtonEl =\n",
              "        document.querySelector('#df-163cd4c4-7a7c-4cb4-9511-cc1f5ba6eca0 button');\n",
              "      quickchartButtonEl.style.display =\n",
              "        google.colab.kernel.accessAllowed ? 'block' : 'none';\n",
              "    })();\n",
              "  </script>\n",
              "</div>\n",
              "    </div>\n",
              "  </div>\n"
            ]
          },
          "metadata": {},
          "execution_count": 117
        }
      ]
    },
    {
      "cell_type": "markdown",
      "metadata": {
        "id": "QBrn7Q9M_XBa"
      },
      "source": [
        "Let's remove PTID (patient ID). We don't need it, since it would not help us predict diagnosis."
      ]
    },
    {
      "cell_type": "code",
      "metadata": {
        "id": "GY0HR_jy_V2J"
      },
      "source": [
        "# Dropping patient ID column\n",
        "features = features.drop(columns=['PTID'])"
      ],
      "execution_count": null,
      "outputs": []
    },
    {
      "cell_type": "markdown",
      "source": [
        "## - One Hot Encoding for categorical variables\n",
        "Recall from the text that we are unable to work with data that is words in ML models directly, so we need to recode them into numbers. There are languages and algorythms that seem to be able to deal with words, but they are still turning them into numbers under the hood!\n"
      ],
      "metadata": {
        "id": "Gtmncu5vL3ZT"
      }
    },
    {
      "cell_type": "code",
      "metadata": {
        "id": "gZorUXLSw1kR",
        "colab": {
          "base_uri": "https://localhost:8080/"
        },
        "outputId": "4faf1291-a870-4865-8737-d0316558990f"
      },
      "source": [
        "# checking the variable types for each column\n",
        "features.dtypes"
      ],
      "execution_count": null,
      "outputs": [
        {
          "output_type": "execute_result",
          "data": {
            "text/plain": [
              "AGE            float64\n",
              "PTGENDER        object\n",
              "PTEDUCAT         int64\n",
              "PTETHCAT        object\n",
              "PTRACCAT        object\n",
              "PTMARRY         object\n",
              "APOE4          float64\n",
              "Ventricles     float64\n",
              "Hippocampus    float64\n",
              "WholeBrain     float64\n",
              "Entorhinal     float64\n",
              "Fusiform       float64\n",
              "MidTemp        float64\n",
              "ICV            float64\n",
              "dtype: object"
            ]
          },
          "metadata": {},
          "execution_count": 119
        }
      ]
    },
    {
      "cell_type": "markdown",
      "metadata": {
        "id": "Bo8AoQMe_iK7"
      },
      "source": [
        "As we can see in the output above. There are a few features that are not numerical. We need to make sure that **gender**, **ethnicity** , **race** and **marital status** are coded as numbers. To do this we will need to **one-hot-encode** them. Once we are done doing our one hot encoding, we should see each of the levels of our categorical variables as a recoded column."
      ]
    },
    {
      "cell_type": "code",
      "metadata": {
        "id": "27z-O_k04UP7",
        "colab": {
          "base_uri": "https://localhost:8080/"
        },
        "outputId": "e9078104-b631-41c0-9edf-28b65c48304a"
      },
      "source": [
        "# getting a list of categorical variables we need to recode\n",
        "features_to_encode = list(features.select_dtypes(include = ['object']).columns)\n",
        "features_to_encode"
      ],
      "execution_count": null,
      "outputs": [
        {
          "output_type": "execute_result",
          "data": {
            "text/plain": [
              "['PTGENDER', 'PTETHCAT', 'PTRACCAT', 'PTMARRY']"
            ]
          },
          "metadata": {},
          "execution_count": 120
        }
      ]
    },
    {
      "cell_type": "code",
      "metadata": {
        "id": "R206IQYd6RpA",
        "colab": {
          "base_uri": "https://localhost:8080/",
          "height": 344
        },
        "outputId": "34ba1efc-1b49-4811-aa0e-58b39c3388df"
      },
      "source": [
        " # using a for loop to one-hot encode each of the categorical variables\n",
        "for f in features_to_encode:\n",
        "  print(\"Parent Categorical Variable: \",f)\n",
        "  z = pd.get_dummies(features[f], prefix=f) #get_dummies is the pandas function for one-hot-encoding\n",
        "  features = features.join(z) #append new columns\n",
        "  features = features.drop(columns=[f]) # remove original not recoded column\n",
        "\n",
        "features.head()"
      ],
      "execution_count": null,
      "outputs": [
        {
          "output_type": "stream",
          "name": "stdout",
          "text": [
            "Parent Categorical Variable:  PTGENDER\n",
            "Parent Categorical Variable:  PTETHCAT\n",
            "Parent Categorical Variable:  PTRACCAT\n",
            "Parent Categorical Variable:  PTMARRY\n"
          ]
        },
        {
          "output_type": "execute_result",
          "data": {
            "text/plain": [
              "    AGE  PTEDUCAT  APOE4     Ventricles  Hippocampus    WholeBrain  \\\n",
              "0  84.8        18    1.0   43332.500000  6805.125000  1.071568e+06   \n",
              "1  76.3        16    0.0   31936.454545  6824.636364  1.055413e+06   \n",
              "2  79.3        16    1.0   38410.666667  7496.666667  1.092807e+06   \n",
              "3  77.5        12    2.0  120529.500000  5812.000000  1.093932e+06   \n",
              "4  89.6        16    0.0   40921.571429  7063.250000  9.800458e+05   \n",
              "\n",
              "    Entorhinal      Fusiform       MidTemp           ICV  ...  PTRACCAT_Black  \\\n",
              "0  3752.625000  17693.875000  19420.125000  1.649602e+06  ...               0   \n",
              "1  4131.090909  20095.909091  20235.545455  1.600009e+06  ...               0   \n",
              "2  3998.333333  18993.000000  22226.000000  1.703968e+06  ...               0   \n",
              "3  2773.000000  20675.000000  19959.000000  2.070530e+06  ...               0   \n",
              "4  3894.375000  14152.250000  18133.625000  1.521331e+06  ...               0   \n",
              "\n",
              "   PTRACCAT_Hawaiian/Other PI  PTRACCAT_More than one  PTRACCAT_Unknown  \\\n",
              "0                           0                       0                 0   \n",
              "1                           0                       0                 0   \n",
              "2                           0                       0                 0   \n",
              "3                           0                       0                 0   \n",
              "4                           0                       0                 0   \n",
              "\n",
              "   PTRACCAT_White  PTMARRY_Divorced  PTMARRY_Married  PTMARRY_Never married  \\\n",
              "0               1                 0                1                      0   \n",
              "1               1                 0                1                      0   \n",
              "2               1                 0                0                      0   \n",
              "3               1                 0                1                      0   \n",
              "4               1                 0                1                      0   \n",
              "\n",
              "   PTMARRY_Unknown  PTMARRY_Widowed  \n",
              "0                0                0  \n",
              "1                0                0  \n",
              "2                0                1  \n",
              "3                0                0  \n",
              "4                0                0  \n",
              "\n",
              "[5 rows x 27 columns]"
            ],
            "text/html": [
              "\n",
              "  <div id=\"df-de2a537a-a956-4a87-9c47-69d4eb2adddb\" class=\"colab-df-container\">\n",
              "    <div>\n",
              "<style scoped>\n",
              "    .dataframe tbody tr th:only-of-type {\n",
              "        vertical-align: middle;\n",
              "    }\n",
              "\n",
              "    .dataframe tbody tr th {\n",
              "        vertical-align: top;\n",
              "    }\n",
              "\n",
              "    .dataframe thead th {\n",
              "        text-align: right;\n",
              "    }\n",
              "</style>\n",
              "<table border=\"1\" class=\"dataframe\">\n",
              "  <thead>\n",
              "    <tr style=\"text-align: right;\">\n",
              "      <th></th>\n",
              "      <th>AGE</th>\n",
              "      <th>PTEDUCAT</th>\n",
              "      <th>APOE4</th>\n",
              "      <th>Ventricles</th>\n",
              "      <th>Hippocampus</th>\n",
              "      <th>WholeBrain</th>\n",
              "      <th>Entorhinal</th>\n",
              "      <th>Fusiform</th>\n",
              "      <th>MidTemp</th>\n",
              "      <th>ICV</th>\n",
              "      <th>...</th>\n",
              "      <th>PTRACCAT_Black</th>\n",
              "      <th>PTRACCAT_Hawaiian/Other PI</th>\n",
              "      <th>PTRACCAT_More than one</th>\n",
              "      <th>PTRACCAT_Unknown</th>\n",
              "      <th>PTRACCAT_White</th>\n",
              "      <th>PTMARRY_Divorced</th>\n",
              "      <th>PTMARRY_Married</th>\n",
              "      <th>PTMARRY_Never married</th>\n",
              "      <th>PTMARRY_Unknown</th>\n",
              "      <th>PTMARRY_Widowed</th>\n",
              "    </tr>\n",
              "  </thead>\n",
              "  <tbody>\n",
              "    <tr>\n",
              "      <th>0</th>\n",
              "      <td>84.8</td>\n",
              "      <td>18</td>\n",
              "      <td>1.0</td>\n",
              "      <td>43332.500000</td>\n",
              "      <td>6805.125000</td>\n",
              "      <td>1.071568e+06</td>\n",
              "      <td>3752.625000</td>\n",
              "      <td>17693.875000</td>\n",
              "      <td>19420.125000</td>\n",
              "      <td>1.649602e+06</td>\n",
              "      <td>...</td>\n",
              "      <td>0</td>\n",
              "      <td>0</td>\n",
              "      <td>0</td>\n",
              "      <td>0</td>\n",
              "      <td>1</td>\n",
              "      <td>0</td>\n",
              "      <td>1</td>\n",
              "      <td>0</td>\n",
              "      <td>0</td>\n",
              "      <td>0</td>\n",
              "    </tr>\n",
              "    <tr>\n",
              "      <th>1</th>\n",
              "      <td>76.3</td>\n",
              "      <td>16</td>\n",
              "      <td>0.0</td>\n",
              "      <td>31936.454545</td>\n",
              "      <td>6824.636364</td>\n",
              "      <td>1.055413e+06</td>\n",
              "      <td>4131.090909</td>\n",
              "      <td>20095.909091</td>\n",
              "      <td>20235.545455</td>\n",
              "      <td>1.600009e+06</td>\n",
              "      <td>...</td>\n",
              "      <td>0</td>\n",
              "      <td>0</td>\n",
              "      <td>0</td>\n",
              "      <td>0</td>\n",
              "      <td>1</td>\n",
              "      <td>0</td>\n",
              "      <td>1</td>\n",
              "      <td>0</td>\n",
              "      <td>0</td>\n",
              "      <td>0</td>\n",
              "    </tr>\n",
              "    <tr>\n",
              "      <th>2</th>\n",
              "      <td>79.3</td>\n",
              "      <td>16</td>\n",
              "      <td>1.0</td>\n",
              "      <td>38410.666667</td>\n",
              "      <td>7496.666667</td>\n",
              "      <td>1.092807e+06</td>\n",
              "      <td>3998.333333</td>\n",
              "      <td>18993.000000</td>\n",
              "      <td>22226.000000</td>\n",
              "      <td>1.703968e+06</td>\n",
              "      <td>...</td>\n",
              "      <td>0</td>\n",
              "      <td>0</td>\n",
              "      <td>0</td>\n",
              "      <td>0</td>\n",
              "      <td>1</td>\n",
              "      <td>0</td>\n",
              "      <td>0</td>\n",
              "      <td>0</td>\n",
              "      <td>0</td>\n",
              "      <td>1</td>\n",
              "    </tr>\n",
              "    <tr>\n",
              "      <th>3</th>\n",
              "      <td>77.5</td>\n",
              "      <td>12</td>\n",
              "      <td>2.0</td>\n",
              "      <td>120529.500000</td>\n",
              "      <td>5812.000000</td>\n",
              "      <td>1.093932e+06</td>\n",
              "      <td>2773.000000</td>\n",
              "      <td>20675.000000</td>\n",
              "      <td>19959.000000</td>\n",
              "      <td>2.070530e+06</td>\n",
              "      <td>...</td>\n",
              "      <td>0</td>\n",
              "      <td>0</td>\n",
              "      <td>0</td>\n",
              "      <td>0</td>\n",
              "      <td>1</td>\n",
              "      <td>0</td>\n",
              "      <td>1</td>\n",
              "      <td>0</td>\n",
              "      <td>0</td>\n",
              "      <td>0</td>\n",
              "    </tr>\n",
              "    <tr>\n",
              "      <th>4</th>\n",
              "      <td>89.6</td>\n",
              "      <td>16</td>\n",
              "      <td>0.0</td>\n",
              "      <td>40921.571429</td>\n",
              "      <td>7063.250000</td>\n",
              "      <td>9.800458e+05</td>\n",
              "      <td>3894.375000</td>\n",
              "      <td>14152.250000</td>\n",
              "      <td>18133.625000</td>\n",
              "      <td>1.521331e+06</td>\n",
              "      <td>...</td>\n",
              "      <td>0</td>\n",
              "      <td>0</td>\n",
              "      <td>0</td>\n",
              "      <td>0</td>\n",
              "      <td>1</td>\n",
              "      <td>0</td>\n",
              "      <td>1</td>\n",
              "      <td>0</td>\n",
              "      <td>0</td>\n",
              "      <td>0</td>\n",
              "    </tr>\n",
              "  </tbody>\n",
              "</table>\n",
              "<p>5 rows × 27 columns</p>\n",
              "</div>\n",
              "    <div class=\"colab-df-buttons\">\n",
              "\n",
              "  <div class=\"colab-df-container\">\n",
              "    <button class=\"colab-df-convert\" onclick=\"convertToInteractive('df-de2a537a-a956-4a87-9c47-69d4eb2adddb')\"\n",
              "            title=\"Convert this dataframe to an interactive table.\"\n",
              "            style=\"display:none;\">\n",
              "\n",
              "  <svg xmlns=\"http://www.w3.org/2000/svg\" height=\"24px\" viewBox=\"0 -960 960 960\">\n",
              "    <path d=\"M120-120v-720h720v720H120Zm60-500h600v-160H180v160Zm220 220h160v-160H400v160Zm0 220h160v-160H400v160ZM180-400h160v-160H180v160Zm440 0h160v-160H620v160ZM180-180h160v-160H180v160Zm440 0h160v-160H620v160Z\"/>\n",
              "  </svg>\n",
              "    </button>\n",
              "\n",
              "  <style>\n",
              "    .colab-df-container {\n",
              "      display:flex;\n",
              "      gap: 12px;\n",
              "    }\n",
              "\n",
              "    .colab-df-convert {\n",
              "      background-color: #E8F0FE;\n",
              "      border: none;\n",
              "      border-radius: 50%;\n",
              "      cursor: pointer;\n",
              "      display: none;\n",
              "      fill: #1967D2;\n",
              "      height: 32px;\n",
              "      padding: 0 0 0 0;\n",
              "      width: 32px;\n",
              "    }\n",
              "\n",
              "    .colab-df-convert:hover {\n",
              "      background-color: #E2EBFA;\n",
              "      box-shadow: 0px 1px 2px rgba(60, 64, 67, 0.3), 0px 1px 3px 1px rgba(60, 64, 67, 0.15);\n",
              "      fill: #174EA6;\n",
              "    }\n",
              "\n",
              "    .colab-df-buttons div {\n",
              "      margin-bottom: 4px;\n",
              "    }\n",
              "\n",
              "    [theme=dark] .colab-df-convert {\n",
              "      background-color: #3B4455;\n",
              "      fill: #D2E3FC;\n",
              "    }\n",
              "\n",
              "    [theme=dark] .colab-df-convert:hover {\n",
              "      background-color: #434B5C;\n",
              "      box-shadow: 0px 1px 3px 1px rgba(0, 0, 0, 0.15);\n",
              "      filter: drop-shadow(0px 1px 2px rgba(0, 0, 0, 0.3));\n",
              "      fill: #FFFFFF;\n",
              "    }\n",
              "  </style>\n",
              "\n",
              "    <script>\n",
              "      const buttonEl =\n",
              "        document.querySelector('#df-de2a537a-a956-4a87-9c47-69d4eb2adddb button.colab-df-convert');\n",
              "      buttonEl.style.display =\n",
              "        google.colab.kernel.accessAllowed ? 'block' : 'none';\n",
              "\n",
              "      async function convertToInteractive(key) {\n",
              "        const element = document.querySelector('#df-de2a537a-a956-4a87-9c47-69d4eb2adddb');\n",
              "        const dataTable =\n",
              "          await google.colab.kernel.invokeFunction('convertToInteractive',\n",
              "                                                    [key], {});\n",
              "        if (!dataTable) return;\n",
              "\n",
              "        const docLinkHtml = 'Like what you see? Visit the ' +\n",
              "          '<a target=\"_blank\" href=https://colab.research.google.com/notebooks/data_table.ipynb>data table notebook</a>'\n",
              "          + ' to learn more about interactive tables.';\n",
              "        element.innerHTML = '';\n",
              "        dataTable['output_type'] = 'display_data';\n",
              "        await google.colab.output.renderOutput(dataTable, element);\n",
              "        const docLink = document.createElement('div');\n",
              "        docLink.innerHTML = docLinkHtml;\n",
              "        element.appendChild(docLink);\n",
              "      }\n",
              "    </script>\n",
              "  </div>\n",
              "\n",
              "\n",
              "<div id=\"df-d67aee4c-fd2e-495f-b130-7b707eff4536\">\n",
              "  <button class=\"colab-df-quickchart\" onclick=\"quickchart('df-d67aee4c-fd2e-495f-b130-7b707eff4536')\"\n",
              "            title=\"Suggest charts.\"\n",
              "            style=\"display:none;\">\n",
              "\n",
              "<svg xmlns=\"http://www.w3.org/2000/svg\" height=\"24px\"viewBox=\"0 0 24 24\"\n",
              "     width=\"24px\">\n",
              "    <g>\n",
              "        <path d=\"M19 3H5c-1.1 0-2 .9-2 2v14c0 1.1.9 2 2 2h14c1.1 0 2-.9 2-2V5c0-1.1-.9-2-2-2zM9 17H7v-7h2v7zm4 0h-2V7h2v10zm4 0h-2v-4h2v4z\"/>\n",
              "    </g>\n",
              "</svg>\n",
              "  </button>\n",
              "\n",
              "<style>\n",
              "  .colab-df-quickchart {\n",
              "      --bg-color: #E8F0FE;\n",
              "      --fill-color: #1967D2;\n",
              "      --hover-bg-color: #E2EBFA;\n",
              "      --hover-fill-color: #174EA6;\n",
              "      --disabled-fill-color: #AAA;\n",
              "      --disabled-bg-color: #DDD;\n",
              "  }\n",
              "\n",
              "  [theme=dark] .colab-df-quickchart {\n",
              "      --bg-color: #3B4455;\n",
              "      --fill-color: #D2E3FC;\n",
              "      --hover-bg-color: #434B5C;\n",
              "      --hover-fill-color: #FFFFFF;\n",
              "      --disabled-bg-color: #3B4455;\n",
              "      --disabled-fill-color: #666;\n",
              "  }\n",
              "\n",
              "  .colab-df-quickchart {\n",
              "    background-color: var(--bg-color);\n",
              "    border: none;\n",
              "    border-radius: 50%;\n",
              "    cursor: pointer;\n",
              "    display: none;\n",
              "    fill: var(--fill-color);\n",
              "    height: 32px;\n",
              "    padding: 0;\n",
              "    width: 32px;\n",
              "  }\n",
              "\n",
              "  .colab-df-quickchart:hover {\n",
              "    background-color: var(--hover-bg-color);\n",
              "    box-shadow: 0 1px 2px rgba(60, 64, 67, 0.3), 0 1px 3px 1px rgba(60, 64, 67, 0.15);\n",
              "    fill: var(--button-hover-fill-color);\n",
              "  }\n",
              "\n",
              "  .colab-df-quickchart-complete:disabled,\n",
              "  .colab-df-quickchart-complete:disabled:hover {\n",
              "    background-color: var(--disabled-bg-color);\n",
              "    fill: var(--disabled-fill-color);\n",
              "    box-shadow: none;\n",
              "  }\n",
              "\n",
              "  .colab-df-spinner {\n",
              "    border: 2px solid var(--fill-color);\n",
              "    border-color: transparent;\n",
              "    border-bottom-color: var(--fill-color);\n",
              "    animation:\n",
              "      spin 1s steps(1) infinite;\n",
              "  }\n",
              "\n",
              "  @keyframes spin {\n",
              "    0% {\n",
              "      border-color: transparent;\n",
              "      border-bottom-color: var(--fill-color);\n",
              "      border-left-color: var(--fill-color);\n",
              "    }\n",
              "    20% {\n",
              "      border-color: transparent;\n",
              "      border-left-color: var(--fill-color);\n",
              "      border-top-color: var(--fill-color);\n",
              "    }\n",
              "    30% {\n",
              "      border-color: transparent;\n",
              "      border-left-color: var(--fill-color);\n",
              "      border-top-color: var(--fill-color);\n",
              "      border-right-color: var(--fill-color);\n",
              "    }\n",
              "    40% {\n",
              "      border-color: transparent;\n",
              "      border-right-color: var(--fill-color);\n",
              "      border-top-color: var(--fill-color);\n",
              "    }\n",
              "    60% {\n",
              "      border-color: transparent;\n",
              "      border-right-color: var(--fill-color);\n",
              "    }\n",
              "    80% {\n",
              "      border-color: transparent;\n",
              "      border-right-color: var(--fill-color);\n",
              "      border-bottom-color: var(--fill-color);\n",
              "    }\n",
              "    90% {\n",
              "      border-color: transparent;\n",
              "      border-bottom-color: var(--fill-color);\n",
              "    }\n",
              "  }\n",
              "</style>\n",
              "\n",
              "  <script>\n",
              "    async function quickchart(key) {\n",
              "      const quickchartButtonEl =\n",
              "        document.querySelector('#' + key + ' button');\n",
              "      quickchartButtonEl.disabled = true;  // To prevent multiple clicks.\n",
              "      quickchartButtonEl.classList.add('colab-df-spinner');\n",
              "      try {\n",
              "        const charts = await google.colab.kernel.invokeFunction(\n",
              "            'suggestCharts', [key], {});\n",
              "      } catch (error) {\n",
              "        console.error('Error during call to suggestCharts:', error);\n",
              "      }\n",
              "      quickchartButtonEl.classList.remove('colab-df-spinner');\n",
              "      quickchartButtonEl.classList.add('colab-df-quickchart-complete');\n",
              "    }\n",
              "    (() => {\n",
              "      let quickchartButtonEl =\n",
              "        document.querySelector('#df-d67aee4c-fd2e-495f-b130-7b707eff4536 button');\n",
              "      quickchartButtonEl.style.display =\n",
              "        google.colab.kernel.accessAllowed ? 'block' : 'none';\n",
              "    })();\n",
              "  </script>\n",
              "</div>\n",
              "    </div>\n",
              "  </div>\n"
            ]
          },
          "metadata": {},
          "execution_count": 121
        }
      ]
    },
    {
      "cell_type": "markdown",
      "source": [
        "## Task 3: Categorical data\n",
        "What type of Categorical variables are we dealing with in our current dataset? Are they ordered or unordered? how many levels does each category have?\n"
      ],
      "metadata": {
        "id": "R9x46KixOLXS"
      }
    },
    {
      "cell_type": "markdown",
      "source": [
        "**Answer for question 3**\n",
        "We are dealing with PTGENDER, PTETHCAT, PTRACCAT and PTMARRY.They are unordered. Each category have 2 levels."
      ],
      "metadata": {
        "id": "YdD16aswPXDS"
      }
    },
    {
      "cell_type": "markdown",
      "metadata": {
        "id": "oUdDTLcffKvr"
      },
      "source": [
        "Now that we cleaned up the data, it's good to **save the data frame** we now have."
      ]
    },
    {
      "cell_type": "code",
      "metadata": {
        "id": "gdm1_vIWfJfb",
        "colab": {
          "base_uri": "https://localhost:8080/",
          "height": 17
        },
        "outputId": "e4bf97ad-7963-42a9-b328-669f7f471127"
      },
      "source": [
        "# code to save our current dataframe as a csv file\n",
        "features.to_csv('PatData_cleaned_one_hot_encoded.csv', index=False)\n",
        "# code to download our csv file into your own computer\n",
        "files.download('PatData_cleaned_one_hot_encoded.csv')"
      ],
      "execution_count": null,
      "outputs": [
        {
          "output_type": "display_data",
          "data": {
            "text/plain": [
              "<IPython.core.display.Javascript object>"
            ],
            "application/javascript": [
              "\n",
              "    async function download(id, filename, size) {\n",
              "      if (!google.colab.kernel.accessAllowed) {\n",
              "        return;\n",
              "      }\n",
              "      const div = document.createElement('div');\n",
              "      const label = document.createElement('label');\n",
              "      label.textContent = `Downloading \"${filename}\": `;\n",
              "      div.appendChild(label);\n",
              "      const progress = document.createElement('progress');\n",
              "      progress.max = size;\n",
              "      div.appendChild(progress);\n",
              "      document.body.appendChild(div);\n",
              "\n",
              "      const buffers = [];\n",
              "      let downloaded = 0;\n",
              "\n",
              "      const channel = await google.colab.kernel.comms.open(id);\n",
              "      // Send a message to notify the kernel that we're ready.\n",
              "      channel.send({})\n",
              "\n",
              "      for await (const message of channel.messages) {\n",
              "        // Send a message to notify the kernel that we're ready.\n",
              "        channel.send({})\n",
              "        if (message.buffers) {\n",
              "          for (const buffer of message.buffers) {\n",
              "            buffers.push(buffer);\n",
              "            downloaded += buffer.byteLength;\n",
              "            progress.value = downloaded;\n",
              "          }\n",
              "        }\n",
              "      }\n",
              "      const blob = new Blob(buffers, {type: 'application/binary'});\n",
              "      const a = document.createElement('a');\n",
              "      a.href = window.URL.createObjectURL(blob);\n",
              "      a.download = filename;\n",
              "      div.appendChild(a);\n",
              "      a.click();\n",
              "      div.remove();\n",
              "    }\n",
              "  "
            ]
          },
          "metadata": {}
        },
        {
          "output_type": "display_data",
          "data": {
            "text/plain": [
              "<IPython.core.display.Javascript object>"
            ],
            "application/javascript": [
              "download(\"download_76a07f7e-4780-4328-be54-a11ccc03472c\", \"PatData_cleaned_one_hot_encoded.csv\", 175412)"
            ]
          },
          "metadata": {}
        }
      ]
    },
    {
      "cell_type": "markdown",
      "source": [
        "##Random Forest with one-Hot Encoded Data\n",
        "\n",
        "Similar to previous modules we can go ahead and prepare our data for training a Random Forest."
      ],
      "metadata": {
        "id": "Tba51GsH2eQF"
      }
    },
    {
      "cell_type": "code",
      "metadata": {
        "id": "DPd3df_Li5uV",
        "colab": {
          "base_uri": "https://localhost:8080/"
        },
        "outputId": "323b5eb7-fcad-4ccb-8449-cbca06a2fbeb"
      },
      "source": [
        "# Separating data into training and testing\n",
        "features_train, features_test, labels_train, labels_test = train_test_split(features, labels, test_size=0.3, random_state=42) # 70% training and 30% test\n",
        "\n",
        "# Creating Random Forest object\n",
        "rf = RandomForestClassifier(n_estimators = 100, max_features = \"auto\", bootstrap = True, random_state = 42)\n",
        "\n",
        "# Training your Random Forest\n",
        "rf.fit(features_train, labels_train)\n",
        "\n",
        "#Predict the response for test dataset\n",
        "labels_pred = rf.predict(features_test)"
      ],
      "execution_count": null,
      "outputs": [
        {
          "output_type": "stream",
          "name": "stderr",
          "text": [
            "/usr/local/lib/python3.10/dist-packages/sklearn/ensemble/_forest.py:424: FutureWarning: `max_features='auto'` has been deprecated in 1.1 and will be removed in 1.3. To keep the past behaviour, explicitly set `max_features='sqrt'` or remove this parameter as it is also the default value for RandomForestClassifiers and ExtraTreesClassifiers.\n",
            "  warn(\n"
          ]
        }
      ]
    },
    {
      "cell_type": "markdown",
      "source": [
        "Let's take a peak at how our model has performed at least for the first 10 patients of our testing data."
      ],
      "metadata": {
        "id": "b9Knrh2g3ql4"
      }
    },
    {
      "cell_type": "code",
      "metadata": {
        "id": "5f1Ner7bjRT8",
        "colab": {
          "base_uri": "https://localhost:8080/"
        },
        "outputId": "94d3aebc-603d-420e-92dd-b8131ced0fd5"
      },
      "source": [
        "# Look at the predicted values.\n",
        "print(labels_pred[:10])\n",
        "# And the real values.\n",
        "print(labels_test.to_numpy(dtype=object)[:10])\n",
        "#See how many correct predictions there are among the first 10 patients."
      ],
      "execution_count": null,
      "outputs": [
        {
          "output_type": "stream",
          "name": "stdout",
          "text": [
            "['Dementia' 'MCI' 'NL' 'Dementia' 'NL' 'Dementia' 'NL' 'MCI' 'NL' 'MCI']\n",
            "['Dementia' 'MCI' 'NL' 'Dementia' 'MCI' 'Dementia' 'NL' 'MCI' 'MCI' 'MCI']\n"
          ]
        }
      ]
    },
    {
      "cell_type": "code",
      "source": [
        "# Showing the confusin matrix for our Decision tree results\n",
        "print(metrics.confusion_matrix(labels_test, labels_pred))\n",
        "plt2 = metrics.ConfusionMatrixDisplay.from_estimator(rf, features_test, labels_test)\n",
        "plt.grid(False)"
      ],
      "metadata": {
        "id": "ykoJPf864IJC",
        "colab": {
          "base_uri": "https://localhost:8080/",
          "height": 503
        },
        "outputId": "c3fdb8f2-de22-46b2-851f-96fd885cab31"
      },
      "execution_count": null,
      "outputs": [
        {
          "output_type": "stream",
          "name": "stdout",
          "text": [
            "[[131  36   6]\n",
            " [ 25  92  41]\n",
            " [  5  46  62]]\n"
          ]
        },
        {
          "output_type": "display_data",
          "data": {
            "text/plain": [
              "<Figure size 640x480 with 2 Axes>"
            ],
            "image/png": "[encoded data removed]"
          },
          "metadata": {}
        }
      ]
    },
    {
      "cell_type": "markdown",
      "source": [
        "Unlike our other Confusion Matrices, this time we have a 3 by 3 matrix. So this time what we want is for the main diagonal to show us the bigger numbers. What do you think? What diagnosis got the best results?"
      ],
      "metadata": {
        "id": "y7zURXZM7Lnp"
      }
    },
    {
      "cell_type": "markdown",
      "source": [
        "##Task 4: Write what you noticed about the confusion matrix here!"
      ],
      "metadata": {
        "id": "F_EsIe_68bPO"
      }
    },
    {
      "cell_type": "markdown",
      "source": [
        "The given confusion matrix is a 3 x 3 matrix. The main diagonal (131, 92, 62) gives the correct predictions. That is, the cases where the true label and the predicted label are the same. In the matrix the first row predicted 131 patients to have demenita and incorrectly predicted 36 of them to have MCI and 6 of them to have NL. In second row, the matrix correctly predicted 92 patients to have MCI and incorrectly predicted 25 patients to have dementia and 41 of them to have NL. In the third row, the matrix correctly predicted 62 patients to have NL and incorrectly predicted 5 of them to have Dementia and 62 of them to have NL. The diagnosis of Dementia got the best results."
      ],
      "metadata": {
        "id": "OLbZ1-m9Yg6t"
      }
    },
    {
      "cell_type": "markdown",
      "source": [
        "#5) Feature importance\n",
        "\n",
        "Just like in the heart disease notebook, we will now look at the feature importance for the random forest model.\n",
        "\n",
        "As a reminder: Visualizing your results is always an important part of any data science project. Now that we have a random forest based on 1000 random trees, we cannot easily visualize all the trees at once like we did for the decision tree, because it would be an overwhelming set of diagrams. But we can visualize the feature importance. I've seen this kind of plot in published articles. I like it because it helps us understand which features are most important for making predictions.\n",
        "\n",
        "Feature importance is a measurement of how each feature decreases the amount of impurity (Gini index) in a node, weighted by the probability of reaching that node. The higher the value the more important the feature. This is usually calculated for each tree in the random forest and then averaged over the total number of trees. The graph below shows these averages."
      ],
      "metadata": {
        "id": "K7S78Iii8hE_"
      }
    },
    {
      "cell_type": "code",
      "metadata": {
        "id": "rdsCNF6N1k4Z"
      },
      "source": [
        "# calculating feature importance\n",
        "importance = rf.feature_importances_\n",
        "\n",
        "# summarize feature importance\n",
        "names = features.columns.to_numpy(dtype=object)\n",
        "\n",
        "# Creating a dataframe\n",
        "importanceDF = pd.DataFrame({'names':names, 'importance':importance})"
      ],
      "execution_count": null,
      "outputs": []
    },
    {
      "cell_type": "code",
      "metadata": {
        "id": "O255gMjX2BE8",
        "colab": {
          "base_uri": "https://localhost:8080/",
          "height": 510
        },
        "outputId": "5fb23cb9-72d3-4809-a7ba-30e25a8d4efe"
      },
      "source": [
        "#Sort the dataframe based on importance\n",
        "importanceDF = importanceDF.sort_values(by=['importance'])\n",
        "\n",
        "# Plotting feature importance\n",
        "importanceDF.plot.barh(x='names', y='importance',color= 'blue', figsize = (7,7), title = \"Feature importance\")"
      ],
      "execution_count": null,
      "outputs": [
        {
          "output_type": "execute_result",
          "data": {
            "text/plain": [
              "<Axes: title={'center': 'Feature importance'}, ylabel='names'>"
            ]
          },
          "metadata": {},
          "execution_count": 127
        },
        {
          "output_type": "display_data",
          "data": {
            "text/plain": [
              "<Figure size 700x700 with 1 Axes>"
            ],
            "image/png": "[encoded data removed]"
          },
          "metadata": {}
        }
      ]
    },
    {
      "cell_type": "markdown",
      "metadata": {
        "id": "il8kv9uZDcda"
      },
      "source": [
        "## Task 4:\n",
        "\n",
        "Look at the pandas documentation pages and make at least two changes to the plot (e.g. colors, width, size, legend etc)\n",
        "\n",
        "https://pandas.pydata.org/docs/reference/api/pandas.DataFrame.plot.html\n",
        "\n",
        "https://pandas.pydata.org/docs/reference/api/pandas.DataFrame.plot.barh.html"
      ]
    },
    {
      "cell_type": "markdown",
      "source": [
        "**change in width**"
      ],
      "metadata": {
        "id": "Q0au4T6Bll80"
      }
    },
    {
      "cell_type": "code",
      "source": [
        "# Plotting feature importance\n",
        "importanceDF.plot.barh(x='names', y='importance',color= 'blue', figsize = (4,4), title = \"Feature importance\")"
      ],
      "metadata": {
        "colab": {
          "base_uri": "https://localhost:8080/",
          "height": 409
        },
        "id": "uZwVqKtplWKW",
        "outputId": "4ea5390a-fb93-4fb8-bac0-0d71107bb80f"
      },
      "execution_count": null,
      "outputs": [
        {
          "output_type": "execute_result",
          "data": {
            "text/plain": [
              "<Axes: title={'center': 'Feature importance'}, ylabel='names'>"
            ]
          },
          "metadata": {},
          "execution_count": 128
        },
        {
          "output_type": "display_data",
          "data": {
            "text/plain": [
              "<Figure size 400x400 with 1 Axes>"
            ],
            "image/png": "[encoded data removed]"
          },
          "metadata": {}
        }
      ]
    },
    {
      "cell_type": "markdown",
      "source": [
        "**change in color**"
      ],
      "metadata": {
        "id": "3jBtNMxol46I"
      }
    },
    {
      "cell_type": "code",
      "source": [
        "# Plotting feature importance\n",
        "importanceDF.plot.barh(x='names', y='importance',color= 'red', figsize = (7,7), title = \"Feature importance\")"
      ],
      "metadata": {
        "colab": {
          "base_uri": "https://localhost:8080/",
          "height": 510
        },
        "id": "xxdn2lzWlY8w",
        "outputId": "e3a21834-6c48-45d8-f7ca-03bcac2ef517"
      },
      "execution_count": null,
      "outputs": [
        {
          "output_type": "execute_result",
          "data": {
            "text/plain": [
              "<Axes: title={'center': 'Feature importance'}, ylabel='names'>"
            ]
          },
          "metadata": {},
          "execution_count": 129
        },
        {
          "output_type": "display_data",
          "data": {
            "text/plain": [
              "<Figure size 700x700 with 1 Axes>"
            ],
            "image/png": "[encoded data removed]"
          },
          "metadata": {}
        }
      ]
    },
    {
      "cell_type": "markdown",
      "metadata": {
        "id": "yprdyqX_kA5B"
      },
      "source": [
        "## Task 5: on Accuracy\n",
        "\n",
        "In addition to a confusion matrix, it is also good to have an accuracy score.\n",
        "\n",
        "a. From sklearn.metrics import the function accuracy_score.\n",
        "\n",
        "b. Use the accuracy_score function to calculate the accuracy of the RF model.\n",
        "\n",
        "c. Once you have stored the accuracy in a variable called accuracy,\n",
        "you can run print(\"Accuracy: %.2f%%\" % (accuracy * 100)). Alternatively, you can use the \"round\" function to round off the accuracy to the desired number of decimals.\n",
        "\n",
        "d. See what happens if you change the 2f into 1f or 3f.\n",
        "\n",
        "e. What level of accuracy is useful for doctors and patients do you think?\n",
        "\n",
        "f. Look at the feature importance bar plot. Compare with your predictions from earlier in the notebook. Were you right or wrong in your predictions? Explain.\n"
      ]
    },
    {
      "cell_type": "markdown",
      "source": [
        "**Answer written question 5 here!**"
      ],
      "metadata": {
        "id": "u5RJbEl8-id2"
      }
    },
    {
      "cell_type": "code",
      "source": [
        "#Calculate the accuracy using your code!\n",
        "from sklearn.metrics import accuracy_score #a\n",
        "\n",
        "accuracy = accuracy_score(y_true, y_pred) #b\n",
        "\n",
        "print(\"Accuracy: %.2f%%\"%(accuracy*100)) #c #d"
      ],
      "metadata": {
        "colab": {
          "base_uri": "https://localhost:8080/"
        },
        "id": "pmQO3tBRnX3x",
        "outputId": "9a566f67-77c4-44e8-fb65-c7e9c3ea3628"
      },
      "execution_count": null,
      "outputs": [
        {
          "output_type": "stream",
          "name": "stdout",
          "text": [
            "Accuracy: 50.00%\n"
          ]
        }
      ]
    },
    {
      "cell_type": "code",
      "source": [
        "print(\"Accuracy: %.1f%%\"%(accuracy*100)) #d"
      ],
      "metadata": {
        "colab": {
          "base_uri": "https://localhost:8080/"
        },
        "id": "iHgzL27OpDEE",
        "outputId": "60f8f7ce-e9d1-47c5-fb5a-be033005654e"
      },
      "execution_count": null,
      "outputs": [
        {
          "output_type": "stream",
          "name": "stdout",
          "text": [
            "Accuracy: 50.0%\n"
          ]
        }
      ]
    },
    {
      "cell_type": "code",
      "source": [
        "print(\"Accuracy: %.3f%%\"%(accuracy*100)) #d"
      ],
      "metadata": {
        "colab": {
          "base_uri": "https://localhost:8080/"
        },
        "id": "QH3Lo2HqpHQz",
        "outputId": "b3c7693c-2a23-4b54-ad2a-22ef2eee990b"
      },
      "execution_count": null,
      "outputs": [
        {
          "output_type": "stream",
          "name": "stdout",
          "text": [
            "Accuracy: 50.000%\n"
          ]
        }
      ]
    },
    {
      "cell_type": "markdown",
      "source": [
        "e. I think if the acurracy rate is high but not completely 100% (means there is some data leakage) then it is useful for doctors and patients."
      ],
      "metadata": {
        "id": "6fZ3aseHqvfk"
      }
    },
    {
      "cell_type": "markdown",
      "source": [
        "f. Yes my predictions were correct. If look at the important bar plot,gender and race are least importantance feature to predict the Alzhiemer disease."
      ],
      "metadata": {
        "id": "ado0yTuaqGys"
      }
    },
    {
      "cell_type": "markdown",
      "metadata": {
        "id": "oF2TBpMg6c36"
      },
      "source": [
        "# Conclusion of this part\n",
        "What we can see is that the volumes of the parts of the brain are most important, starting with the hippocampus. Gender, race and ethnicity seem least important out of the features we looked at. For race and ethnicity this may be because the data almost entirely consists of non-hispanic whites."
      ]
    }
  ]
}